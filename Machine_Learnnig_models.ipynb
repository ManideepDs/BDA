{
 "cells": [
  {
   "cell_type": "markdown",
   "metadata": {},
   "source": [
    "# KK-Box's Music Recommendation System"
   ]
  },
  {
   "cell_type": "code",
   "execution_count": 2,
   "metadata": {},
   "outputs": [
    {
     "data": {
      "text/html": [
       "<style scoped>\n",
       "  .ansiout {\n",
       "    display: block;\n",
       "    unicode-bidi: embed;\n",
       "    white-space: pre-wrap;\n",
       "    word-wrap: break-word;\n",
       "    word-break: break-all;\n",
       "    font-family: \"Source Code Pro\", \"Menlo\", monospace;;\n",
       "    font-size: 13px;\n",
       "    color: #555;\n",
       "    margin-left: 4px;\n",
       "    line-height: 19px;\n",
       "  }\n",
       "</style>\n",
       "<div class=\"ansiout\"></div>"
      ]
     },
     "metadata": {},
     "output_type": "display_data"
    }
   ],
   "source": [
    "#imports\n",
    "from pyspark.sql import SparkSession\n",
    "from pyspark.sql import Row \n",
    "from pyspark.sql import functions as fn\n",
    "from pyspark.sql.types import StringType, DateType\n",
    "from pyspark.sql.dataframe import DataFrame\n",
    "from pyspark.ml import feature, Pipeline\n",
    "from pyspark.ml.classification import LogisticRegression, DecisionTreeClassifier, GBTClassifier, RandomForestClassifier\n",
    "from pyspark.ml.tuning import ParamGridBuilder, CrossValidator\n",
    "from pyspark.ml.evaluation import BinaryClassificationEvaluator\n",
    "import numpy as np\n",
    "import pandas as pd\n",
    "import matplotlib.pyplot as plt\n",
    "import seaborn as sns\n",
    "#Setting up spark session and spark context\n",
    "spark = SparkSession.builder.getOrCreate()\n",
    "sc = spark.sparkContext"
   ]
  },
  {
   "cell_type": "code",
   "execution_count": 3,
   "metadata": {},
   "outputs": [
    {
     "data": {
      "text/html": [
       "<style scoped>\n",
       "  .ansiout {\n",
       "    display: block;\n",
       "    unicode-bidi: embed;\n",
       "    white-space: pre-wrap;\n",
       "    word-wrap: break-word;\n",
       "    word-break: break-all;\n",
       "    font-family: \"Source Code Pro\", \"Menlo\", monospace;;\n",
       "    font-size: 13px;\n",
       "    color: #555;\n",
       "    margin-left: 4px;\n",
       "    line-height: 19px;\n",
       "  }\n",
       "</style>\n",
       "<div class=\"ansiout\"></div>"
      ]
     },
     "metadata": {},
     "output_type": "display_data"
    }
   ],
   "source": [
    "# read only cell\n",
    "\n",
    "import os\n",
    "\n",
    "# get the databricks runtime version\n",
    "db_env = os.getenv(\"DATABRICKS_RUNTIME_VERSION\")\n",
    "\n",
    "# Define a function to read the data file.  The full path data file name is constructed\n",
    "# by checking runtime environment variables to determine if the runtime environment is \n",
    "# databricks, or a student's personal computer.  The full path file name is then\n",
    "# constructed based on the runtime env.\n",
    "# \n",
    "# Params\n",
    "#   data_file_name: The base name of the data file to load\n",
    "# \n",
    "# Returns the full path file name based on the runtime env\n",
    "#\n",
    "def get_training_filename(data_file_name):    \n",
    "    # if the databricks env var exists\n",
    "    if db_env != None:\n",
    "        # build the full path file name assuming data brick env\n",
    "        full_path_name = \"/FileStore/tables/%s\" % data_file_name\n",
    "    # else the data is assumed to be in the same dir as this notebook\n",
    "    else:\n",
    "        # Assume the student is running on their own computer and load the data\n",
    "        # file from the same dir as this notebook\n",
    "        full_path_name = data_file_name\n",
    "    \n",
    "    # return the full path file name to the caller\n",
    "    return full_path_name\n",
    "\n",
    "#Function defining the shape of spark dataframe\n",
    "def spark_df_shape(self):\n",
    "    return (self.count(), len(self.columns))\n",
    "  \n",
    "#Plug the function into pyspark\n",
    "DataFrame.shape = spark_df_shape"
   ]
  },
  {
   "cell_type": "markdown",
   "metadata": {},
   "source": [
    "## Importing Data"
   ]
  },
  {
   "cell_type": "markdown",
   "metadata": {},
   "source": [
    "#### Dataset Review\n",
    "* The dataset has four different datadrames:\n",
    "  1. **members**  contains information about the users of the platform\n",
    "      * ***msno*** - User id \n",
    "      * ***City*** - city of the user\n",
    "      * ***bd*** - Age of the user\n",
    "      * ***gender*** - Gender\n",
    "      * ***registered_via*** - Registration Channel\n",
    "      * ***registration_init_time*** - Registration Date of membership\n",
    "      * ***expiration_date*** - Expiration of membership\n",
    "  2. **songs**  contains the details of the songs available in the platform.\n",
    "      * ***song_id*** - Unique id of the song\n",
    "      * ***song_length*** - Length of song\n",
    "      * ***genre_id*** - genre of the song\n",
    "      * ***artist_name*** - singer \n",
    "      * ***composer*** - Composer of the song\n",
    "      * ***lyricist*** - Lyricist\n",
    "      * ***Language*** - Language\n",
    "  3. **songs_extra_info**  contains extra information about the songs\n",
    "      * ***song_id*** - Unique id of the song\n",
    "      * ***name*** - Title\n",
    "      * ***isrc*** - International standard recording code\n",
    "  4. **train(Renamed to logs)**  contains the logs of the listening history of the users.\n",
    "      * ***msno*** - User id\n",
    "      * ***song_id*** - Song id\n",
    "      * ***source_system_tab*** - the name of the tab where the event was triggered. \n",
    "      * ***source_screen_name*** -  name of the layout a user sees.\n",
    "      * ***source_type*** - an entry point a user first plays music on mobile apps.\n",
    "      * ***target*** - a binary column specifying recursive listening event"
   ]
  },
  {
   "cell_type": "code",
   "execution_count": 6,
   "metadata": {},
   "outputs": [
    {
     "data": {
      "text/html": [
       "<style scoped>\n",
       "  .ansiout {\n",
       "    display: block;\n",
       "    unicode-bidi: embed;\n",
       "    white-space: pre-wrap;\n",
       "    word-wrap: break-word;\n",
       "    word-break: break-all;\n",
       "    font-family: \"Source Code Pro\", \"Menlo\", monospace;;\n",
       "    font-size: 13px;\n",
       "    color: #555;\n",
       "    margin-left: 4px;\n",
       "    line-height: 19px;\n",
       "  }\n",
       "</style>\n",
       "<div class=\"ansiout\">Shape of members: (14501, 7)\n",
       "+--------------------+----+---+------+--------------+----------------------+---------------+\n",
       "                msno|city| bd|gender|registered_via|registration_init_time|expiration_date|\n",
       "+--------------------+----+---+------+--------------+----------------------+---------------+\n",
       "zgPOEyUn5a/Fvuzb3...|  13| 43|female|             9|              20120703|       20171006|\n",
       "GoFYKhcq8Q5Gjz1M5...|  12| 28|  male|             9|              20060531|       20170816|\n",
       "RoSfblbwJN/izEnFI...|  15| 33|female|             3|              20150915|       20171019|\n",
       "vUzJAyFEudsnkWwfc...|  13| 20|  male|             3|              20140410|       20170427|\n",
       "Ev+ouoRTpAjrtxNVe...|  13| 30|  male|             9|              20070330|       20170612|\n",
       "+--------------------+----+---+------+--------------+----------------------+---------------+\n",
       "only showing top 5 rows\n",
       "\n",
       "</div>"
      ]
     },
     "metadata": {},
     "output_type": "display_data"
    }
   ],
   "source": [
    "#Importing members data frame which contains information about the users of the platform.\n",
    "members = spark.read.csv(get_training_filename('members.csv'),header='true',inferSchema='true').na.drop('any')\n",
    "\n",
    "#Shape and head of the dataframe\n",
    "print(\"Shape of members:\" , members.shape())\n",
    "members.show(5)"
   ]
  },
  {
   "cell_type": "code",
   "execution_count": 7,
   "metadata": {},
   "outputs": [
    {
     "data": {
      "text/html": [
       "<style scoped>\n",
       "  .ansiout {\n",
       "    display: block;\n",
       "    unicode-bidi: embed;\n",
       "    white-space: pre-wrap;\n",
       "    word-wrap: break-word;\n",
       "    word-break: break-all;\n",
       "    font-family: \"Source Code Pro\", \"Menlo\", monospace;;\n",
       "    font-size: 13px;\n",
       "    color: #555;\n",
       "    margin-left: 4px;\n",
       "    line-height: 19px;\n",
       "  }\n",
       "</style>\n",
       "<div class=\"ansiout\">Shape of songs: (330520, 7)\n",
       "+--------------------+-----------+---------------+-------------------+--------------------+--------------+--------+\n",
       "             song_id|song_length|      genre_ids|        artist_name|            composer|      lyricist|language|\n",
       "+--------------------+-----------+---------------+-------------------+--------------------+--------------+--------+\n",
       "CXoTN1eb7AI+DntdU...|     247640|            465|張信哲 (Jeff Chang)|                董貞|        何啟弘|     3.0|\n",
       "o0kFgae9QtnYgRkVP...|     197328|            444|          BLACKPINK|TEDDY|  FUTURE BO...|         TEDDY|    31.0|\n",
       "dKMBWoZyScdxSkihK...|     273554|            465|              S.H.E|              湯小康|        徐世珍|     3.0|\n",
       "W3bqWd3T+VeHFzHAU...|     140329|            726|           貴族精選|         Traditional|   Traditional|    52.0|\n",
       "kKJ2JNU5h8rphyW21...|     235520|864|857|850|843|           貴族精選|        Joe Hisaishi|Hayao Miyazaki|    17.0|\n",
       "+--------------------+-----------+---------------+-------------------+--------------------+--------------+--------+\n",
       "only showing top 5 rows\n",
       "\n",
       "</div>"
      ]
     },
     "metadata": {},
     "output_type": "display_data"
    }
   ],
   "source": [
    "#Importing the songs dataframe which contains the details of the songs avialable in the platform.\n",
    "songs = spark.read.csv(get_training_filename('songs.csv'),header='true',inferSchema='true').na.drop('any')\n",
    "\n",
    "#Head and Shape of dataframe\n",
    "print(\"Shape of songs:\" , songs.shape())\n",
    "songs.show(5)"
   ]
  },
  {
   "cell_type": "code",
   "execution_count": 8,
   "metadata": {},
   "outputs": [
    {
     "data": {
      "text/html": [
       "<style scoped>\n",
       "  .ansiout {\n",
       "    display: block;\n",
       "    unicode-bidi: embed;\n",
       "    white-space: pre-wrap;\n",
       "    word-wrap: break-word;\n",
       "    word-break: break-all;\n",
       "    font-family: \"Source Code Pro\", \"Menlo\", monospace;;\n",
       "    font-size: 13px;\n",
       "    color: #555;\n",
       "    margin-left: 4px;\n",
       "    line-height: 19px;\n",
       "  }\n",
       "</style>\n",
       "<div class=\"ansiout\">Shape of songs_extra_info: (2160261, 3)\n",
       "+--------------------+---------------+------------+\n",
       "             song_id|           name|        isrc|\n",
       "+--------------------+---------------+------------+\n",
       "LP7pLJoJFBvyuUwvu...|           我們|TWUM71200043|\n",
       "ClazTFnk6r0Bnuie4...|Let Me Love You|QMZSY1600015|\n",
       "u2ja/bZE3zhCGxvbb...|         原諒我|TWA530887303|\n",
       "92Fqsy0+p6+RHe2Eo...|        Classic|USSM11301446|\n",
       "0QFmz/+rJy1Q56C1D...|       愛投羅網|TWA471306001|\n",
       "+--------------------+---------------+------------+\n",
       "only showing top 5 rows\n",
       "\n",
       "</div>"
      ]
     },
     "metadata": {},
     "output_type": "display_data"
    }
   ],
   "source": [
    "#Importing songs_extra_info dataframe that contains extra information about the songs\n",
    "songs_extra_info = spark.read.csv(get_training_filename('song_extra_info.csv'),header='true',inferSchema='true').na.drop('any')\n",
    "\n",
    "#Head and shape of dataFrame\n",
    "print(\"Shape of songs_extra_info:\" , songs_extra_info.shape())\n",
    "songs_extra_info.show(5)"
   ]
  },
  {
   "cell_type": "code",
   "execution_count": 9,
   "metadata": {},
   "outputs": [
    {
     "data": {
      "text/html": [
       "<style scoped>\n",
       "  .ansiout {\n",
       "    display: block;\n",
       "    unicode-bidi: embed;\n",
       "    white-space: pre-wrap;\n",
       "    word-wrap: break-word;\n",
       "    word-break: break-all;\n",
       "    font-family: \"Source Code Pro\", \"Menlo\", monospace;;\n",
       "    font-size: 13px;\n",
       "    color: #555;\n",
       "    margin-left: 4px;\n",
       "    line-height: 19px;\n",
       "  }\n",
       "</style>\n",
       "<div class=\"ansiout\">Shape of logs: (6961652, 6)\n",
       "+--------------------+--------------------+-----------------+-------------------+---------------+------+\n",
       "                msno|             song_id|source_system_tab| source_screen_name|    source_type|target|\n",
       "+--------------------+--------------------+-----------------+-------------------+---------------+------+\n",
       "FGtllVqz18RPiwJj/...|BBzumQNXUHKdEBOB7...|          explore|            Explore|online-playlist|     1|\n",
       "Xumu+NIjS6QYVxDS4...|bhp/MpSNoqoxOIB+/...|       my library|Local playlist more| local-playlist|     1|\n",
       "Xumu+NIjS6QYVxDS4...|JNWfrrC7zNN7BdMps...|       my library|Local playlist more| local-playlist|     1|\n",
       "Xumu+NIjS6QYVxDS4...|2A87tzfnJTSWqD7gI...|       my library|Local playlist more| local-playlist|     1|\n",
       "FGtllVqz18RPiwJj/...|3qm6XTZ6MOCU11x8F...|          explore|            Explore|online-playlist|     1|\n",
       "+--------------------+--------------------+-----------------+-------------------+---------------+------+\n",
       "only showing top 5 rows\n",
       "\n",
       "</div>"
      ]
     },
     "metadata": {},
     "output_type": "display_data"
    }
   ],
   "source": [
    "#Importing train data frame that contains the logs of the listening history of the users\n",
    "logs = spark.read.csv(get_training_filename('train.csv'),header='true',inferSchema='true').na.drop('any')\n",
    "\n",
    "#Head and shape of the dataframe.\n",
    "print(\"Shape of logs:\" , logs.shape())\n",
    "logs.show(5)"
   ]
  },
  {
   "cell_type": "markdown",
   "metadata": {},
   "source": [
    "## Data Pre-processing"
   ]
  },
  {
   "cell_type": "code",
   "execution_count": 11,
   "metadata": {},
   "outputs": [
    {
     "data": {
      "text/html": [
       "<style scoped>\n",
       "  .ansiout {\n",
       "    display: block;\n",
       "    unicode-bidi: embed;\n",
       "    white-space: pre-wrap;\n",
       "    word-wrap: break-word;\n",
       "    word-break: break-all;\n",
       "    font-family: \"Source Code Pro\", \"Menlo\", monospace;;\n",
       "    font-size: 13px;\n",
       "    color: #555;\n",
       "    margin-left: 4px;\n",
       "    line-height: 19px;\n",
       "  }\n",
       "</style>\n",
       "<div class=\"ansiout\"></div>"
      ]
     },
     "metadata": {},
     "output_type": "display_data"
    }
   ],
   "source": [
    "#Merfing songs and song_extra_info using inner join technique.\n",
    "songs = songs\\\n",
    "  .join(songs_extra_info, songs.song_id == songs_extra_info.song_id,'left_outer')\\\n",
    "  .drop(songs_extra_info.song_id)\\\n",
    "  .withColumn('language',songs.language.cast(StringType()))\\\n",
    "  .withColumnRenamed('song_id','songId')\\\n",
    "  .withColumn('year', songs_extra_info.isrc.substr(5,7))\\\n",
    "  .withColumn('country', songs_extra_info.isrc.substr(0,2))\n",
    "\n",
    "#Adjusting data types of members dataframes.  Renaming few columns to more meaningful names\n",
    "members = members.withColumn('registrationDate', fn.unix_timestamp(members.registration_init_time.cast(StringType()), 'yyyyMMdd').cast('timestamp'))\\\n",
    "                               .withColumn('expirationDate', fn.unix_timestamp(members.expiration_date.cast(StringType()),'yyyyMMdd').cast('timestamp'))\\\n",
    "                               .withColumnRenamed('bd','age')\\\n",
    "                               .withColumnRenamed('msno','userId')\\\n",
    "                               .withColumn('city',members.city.cast(StringType()))\\\n",
    "                               .withColumn('registered_via',members.registered_via.cast(StringType()))\\\n",
    "                               .drop('registration_init_time','expiration_date')\n",
    "\n",
    "#Creating a new column 'daysLeft' calculated as the number of days between expiration and registration date\n",
    "members = members.withColumn('daysLeft', fn.datediff(members.expirationDate,members.registrationDate))"
   ]
  },
  {
   "cell_type": "code",
   "execution_count": 12,
   "metadata": {},
   "outputs": [
    {
     "data": {
      "text/html": [
       "<style scoped>\n",
       "  .ansiout {\n",
       "    display: block;\n",
       "    unicode-bidi: embed;\n",
       "    white-space: pre-wrap;\n",
       "    word-wrap: break-word;\n",
       "    word-break: break-all;\n",
       "    font-family: \"Source Code Pro\", \"Menlo\", monospace;;\n",
       "    font-size: 13px;\n",
       "    color: #555;\n",
       "    margin-left: 4px;\n",
       "    line-height: 19px;\n",
       "  }\n",
       "</style>\n",
       "<div class=\"ansiout\">1. Invalid registration and expiration dates:  0\n",
       "2. Age = 0 :  451\n",
       "3.Invalid Age: 110\n",
       "4. Invalid UserId(msno): 0\n",
       "</div>"
      ]
     },
     "metadata": {},
     "output_type": "display_data"
    }
   ],
   "source": [
    "#Summarizing Invalid entries for members DataFrame\n",
    "print(\"1. Invalid registration and expiration dates: \" , members.filter(fn.col('registrationDate') > fn.col('expirationDate')).count())\n",
    "print(\"2. Age = 0 : \" , members.filter(members.age<=0).count())\n",
    "print(\"3.Invalid Age:\" , members.filter(members.age>%0).count()+members.filter(members.age<0).count())\n",
    "print(\"4. Invalid UserId(msno):\" , members.filter(members.userId.isNull() | fn.isnan(members.userId)).count())"
   ]
  },
  {
   "cell_type": "markdown",
   "metadata": {},
   "source": [
    "#### Removing dirty data from members dataframe\n",
    "* After the inspection, we found some inconsistent entries in members data frame like Age being zero or negative or sometimes a very high value. Here we considered 50 as the threshold for Age.\n",
    "* No invalid entries in User ID column \n",
    "* Registration data must always be greater than expiration date. This constraint is sometimes violated if data is properly validated before making an entry into the database. There are no records violating this constraint\n",
    "* Since we have huge number of records, lets remove all invalid entries instead handling using appropriate interpolation techniques.\n",
    "* Even after filtering we would be left huge number of records, which makes it difficult build the models. \n",
    "* Therefore, only the users registered in 2016 and 2017 are considered."
   ]
  },
  {
   "cell_type": "code",
   "execution_count": 14,
   "metadata": {},
   "outputs": [
    {
     "data": {
      "text/html": [
       "<style scoped>\n",
       "  .ansiout {\n",
       "    display: block;\n",
       "    unicode-bidi: embed;\n",
       "    white-space: pre-wrap;\n",
       "    word-wrap: break-word;\n",
       "    word-break: break-all;\n",
       "    font-family: \"Source Code Pro\", \"Menlo\", monospace;;\n",
       "    font-size: 13px;\n",
       "    color: #555;\n",
       "    margin-left: 4px;\n",
       "    line-height: 19px;\n",
       "  }\n",
       "</style>\n",
       "<div class=\"ansiout\">Shape of members dataframe after Cleaning: (1387, 8)\n",
       "</div>"
      ]
     },
     "metadata": {},
     "output_type": "display_data"
    }
   ],
   "source": [
    "#Filtering out Invalid entries and outliers for members DataFrame\n",
    "members = members.filter((members.age>0) &(members.age<50) & ((fn.year(members.registrationDate) == 2016) | (fn.year(members.registrationDate) == 2017)) & (fn.length(members.city)==1))\n",
    "print(\"Shape of members dataframe after Cleaning:\" , members.shape())"
   ]
  },
  {
   "cell_type": "code",
   "execution_count": 15,
   "metadata": {},
   "outputs": [
    {
     "data": {
      "text/html": [
       "<style scoped>\n",
       "  .ansiout {\n",
       "    display: block;\n",
       "    unicode-bidi: embed;\n",
       "    white-space: pre-wrap;\n",
       "    word-wrap: break-word;\n",
       "    word-break: break-all;\n",
       "    font-family: \"Source Code Pro\", \"Menlo\", monospace;;\n",
       "    font-size: 13px;\n",
       "    color: #555;\n",
       "    margin-left: 4px;\n",
       "    line-height: 19px;\n",
       "  }\n",
       "</style>\n",
       "<div class=\"ansiout\">Invalid song_id:  0\n",
       "Invalid song_lenght: 0\n",
       "</div>"
      ]
     },
     "metadata": {},
     "output_type": "display_data"
    }
   ],
   "source": [
    "#Inspecting invalid entries in songs\n",
    "print(\"Invalid song_id: \", songs.filter(songs.songId.isNull() | fn.isnan(songs.songId)).count())\n",
    "print(\"Invalid song_lenght:\", songs.filter(songs.song_length<=0).count())"
   ]
  },
  {
   "cell_type": "markdown",
   "metadata": {},
   "source": [
    "* No Invalid entries in songs dataframes\n",
    "* Possible invalid entries in logs dataframes would be null values which is already filtered out while importing the data\n",
    "* Let's combine the logs dataframe with member and songs datframe to induce user and song specific attributes to listening history"
   ]
  },
  {
   "cell_type": "code",
   "execution_count": 17,
   "metadata": {},
   "outputs": [
    {
     "data": {
      "text/html": [
       "<style scoped>\n",
       "  .ansiout {\n",
       "    display: block;\n",
       "    unicode-bidi: embed;\n",
       "    white-space: pre-wrap;\n",
       "    word-wrap: break-word;\n",
       "    word-break: break-all;\n",
       "    font-family: \"Source Code Pro\", \"Menlo\", monospace;;\n",
       "    font-size: 13px;\n",
       "    color: #555;\n",
       "    margin-left: 4px;\n",
       "    line-height: 19px;\n",
       "  }\n",
       "</style>\n",
       "<div class=\"ansiout\">(115467, 23)\n",
       "</div>"
      ]
     },
     "metadata": {},
     "output_type": "display_data"
    }
   ],
   "source": [
    "#combining data using inner join\n",
    "logs = logs.join(members,members.userId == logs.msno, 'inner').drop(logs.msno)\n",
    "logs = logs.join(songs, logs.song_id == songs.songId, 'inner').drop(logs.song_id)\n",
    "\n",
    "#Drop null values if any\n",
    "logs = logs.na.drop()\n",
    "print(logs.shape())"
   ]
  },
  {
   "cell_type": "markdown",
   "metadata": {},
   "source": [
    "## Data Visualization"
   ]
  },
  {
   "cell_type": "markdown",
   "metadata": {},
   "source": [
    "* To get insights about the data, a few visualizations are performed using matplotlib and seaborn libraries.\n",
    "* The following few blocks of code convert the spark dataFrames to pandas dataFrames for visualization purpose.\n",
    "* After that, we go ahead and generate some plots to get insights about data"
   ]
  },
  {
   "cell_type": "code",
   "execution_count": 20,
   "metadata": {},
   "outputs": [
    {
     "data": {
      "text/html": [
       "<style scoped>\n",
       "  .ansiout {\n",
       "    display: block;\n",
       "    unicode-bidi: embed;\n",
       "    white-space: pre-wrap;\n",
       "    word-wrap: break-word;\n",
       "    word-break: break-all;\n",
       "    font-family: \"Source Code Pro\", \"Menlo\", monospace;;\n",
       "    font-size: 13px;\n",
       "    color: #555;\n",
       "    margin-left: 4px;\n",
       "    line-height: 19px;\n",
       "  }\n",
       "</style>\n",
       "<div class=\"ansiout\"></div>"
      ]
     },
     "metadata": {},
     "output_type": "display_data"
    }
   ],
   "source": [
    "#Converting to Pandas DF\n",
    "members_pd = members.toPandas()\n",
    "songs_pd = songs.toPandas() \n",
    "logs_pd = logs.toPandas()"
   ]
  },
  {
   "cell_type": "code",
   "execution_count": 21,
   "metadata": {},
   "outputs": [],
   "source": [
    "%matplotlib inline\n",
    "\n",
    "#Plots explaing the distribution of different attributes in members dataframe\n",
    "fig , ax =plt.subplots(2,2,figsize = (15,6))\n",
    "ax[0,0].hist(members_pd.age)\n",
    "ax[0,0].set(xlabel = 'Age', ylabel = 'frequency' , title = 'Histogram of Age')\n",
    "ax[0,1].bar(members_pd.registered_via.unique(), members_pd.registered_via.value_counts())\n",
    "ax[0,1].set(xlabel = 'Registration Channel', ylabel = 'Count' , title = 'Bar Graph of Resgistration Channel')\n",
    "ax[1,0].bar(members_pd.city.unique(), members_pd.city.value_counts())\n",
    "ax[1,0].set(xlabel = 'City', ylabel = 'Count' , title = 'Bar Graph of city')\n",
    "ax[1,1].bar(members_pd.gender.unique(), members_pd.gender.value_counts())\n",
    "ax[1,1].set(xlabel = 'Gender', ylabel = 'Count' , title = 'Bar Graph of Gender')\n",
    "plt.subplots_adjust(top =1.5)\n",
    "plt.show()"
   ]
  },
  {
   "cell_type": "markdown",
   "metadata": {},
   "source": [
    "These graphs are just a general distribution of users irrespective of the target values according to their age, registration channel, city and gender. \n",
    "* From the histogram of Age, it is clear that more users are in the age of 18-30 \n",
    "* Most of the users are from the cities 4,5, and 8\n",
    "* Data is balanced for female and male users\n",
    "* Most of the registrations are happening from channels 3 and 4"
   ]
  },
  {
   "cell_type": "code",
   "execution_count": 23,
   "metadata": {},
   "outputs": [],
   "source": [
    "#Plots for distribution of various attributes in logs dataframe\n",
    "fig , axes = plt.subplots(2,2)\n",
    "fig.set_figheight(13)\n",
    "fig.set_figwidth(22)\n",
    "sns.countplot(logs_pd['target'], ax = axes[0][0]).set_title('Distribution of target')\n",
    "sns.countplot(logs_pd['source_system_tab'],hue=logs_pd['target'], ax = axes[0][1]).set_title('Bar Graph of Source System tab')\n",
    "sns.countplot(logs_pd['language'],hue=logs_pd['target'], ax = axes[1][0]).set_title('Bar Graph of Language')\n",
    "sns.countplot(logs_pd['source_type'],hue=logs_pd['target'], ax = axes[1][1]).set_title('Bar Graph of Source type')\n",
    "locs, labels = plt.xticks()\n",
    "plt.xticks(rotation=45)"
   ]
  },
  {
   "cell_type": "markdown",
   "metadata": {},
   "source": [
    "**Insights from above Graphs**\n",
    "\n",
    "*Distributio of target says that the number of 0s and 1s are almost equal. Hence, we can say that our dataset is balanced.*\n",
    "\n",
    "*Bar graph of Source sytem tab specifies ‘my-library’ and the ‘discover’ features of the app have the highest count of users from where they play their music .*\n",
    "\n",
    "*Bar graph of shows us that the 3 languages with codes 3.0 (Taiwanese), 52.0 (English) and 31.0 (Korean) make up for most of the data.*\n",
    "\n",
    "*Bar graph of System type tells us that most of the users prefer playing from their local playlist or local library when they open their app.*"
   ]
  },
  {
   "cell_type": "code",
   "execution_count": 25,
   "metadata": {},
   "outputs": [],
   "source": [
    "#plot to depict Genre_preference for males\n",
    "plt.figure(figsize=(8,8))\n",
    "logs_pd.query(\"gender =='male'\")[\"genre_ids\"].value_counts().head(15).plot.bar()\n",
    "plt.title(\"Distribution of Genres across Males \")\n",
    "plt.xlabel(\"Genre IDs\")\n",
    "plt.ylabel(\"Count\")"
   ]
  },
  {
   "cell_type": "markdown",
   "metadata": {},
   "source": [
    "The above graph is just a general distribution of Genre IDs across male. We can observe that  male user are more insterested in genre with id's 465 and 458."
   ]
  },
  {
   "cell_type": "code",
   "execution_count": 27,
   "metadata": {},
   "outputs": [],
   "source": [
    "#plot to depict Genre_preference for males\n",
    "plt.figure(figsize=(8,8))\n",
    "logs_pd.query(\"gender =='female'\")[\"genre_ids\"].value_counts().head(15).plot.bar()\n",
    "plt.title(\"Distribution of Genres across Females \")\n",
    "plt.xlabel(\"Genre IDs\")\n",
    "plt.ylabel(\"Count\")"
   ]
  },
  {
   "cell_type": "markdown",
   "metadata": {},
   "source": [
    "The above graph is just a general distribution of Genre IDs across females. We can observe that genre preference for female users follow almost the similar order that of male users"
   ]
  },
  {
   "cell_type": "markdown",
   "metadata": {},
   "source": [
    "# Model Building"
   ]
  },
  {
   "cell_type": "markdown",
   "metadata": {},
   "source": [
    "* Since we are going to try algorithms like Logistic Regression, we will have to convert the categorical variables in the dataset into numeric variables. There are 2 ways we can do this.\n",
    "\n",
    "**String Indexing**\n",
    "\n",
    "This is basically assigning a numeric value to each category from {0, 1, 2, ...numCategories-1}. This introduces an implicit ordering among your categories, and is more suitable for ordinal variables (eg: Poor: 0, Average: 1, Good: 2)\n",
    "\n",
    "**One-Hot Encoding**\n",
    "\n",
    "This converts categories into binary vectors with at most one nonzero value (eg: (Blue: [1, 0]), (Green: [0, 1]), (Red: [0, 0]))\n",
    "\n",
    "* In this dataset, we have ordinal variables like city,Source Sytem tab, source type, Source screen name,Registrayion channel, gender, genre_ids, and Language. we will use One-Hot Encoding to convert all categorical variables into binary vectors. It is possible here to improve prediction accuracy by converting each categorical column with an appropriate method.\n",
    "\n",
    "* Here, we will use a combination of StringIndexer and OneHotEncoderEstimator to convert the categorical variables. The OneHotEncoderEstimator will return a SparseVector. \n",
    "\n",
    "* Since we will have more than 1 stage of feature transformations, we use a Pipeline to tie the stages together. This simplifies our code."
   ]
  },
  {
   "cell_type": "code",
   "execution_count": 31,
   "metadata": {},
   "outputs": [
    {
     "data": {
      "text/html": [
       "<style scoped>\n",
       "  .ansiout {\n",
       "    display: block;\n",
       "    unicode-bidi: embed;\n",
       "    white-space: pre-wrap;\n",
       "    word-wrap: break-word;\n",
       "    word-break: break-all;\n",
       "    font-family: \"Source Code Pro\", \"Menlo\", monospace;;\n",
       "    font-size: 13px;\n",
       "    color: #555;\n",
       "    margin-left: 4px;\n",
       "    line-height: 19px;\n",
       "  }\n",
       "</style>\n",
       "<div class=\"ansiout\"></div>"
      ]
     },
     "metadata": {},
     "output_type": "display_data"
    }
   ],
   "source": [
    "#Categorical Columns\n",
    "encodeCol = ['source_system_tab', 'source_screen_name', 'source_type', 'gender', 'registered_via', 'language', 'city', 'genre_ids']\n",
    "\n",
    "#Numerical columns\n",
    "numericCol = ['daysLeft', 'age', 'song_length']\n",
    "\n",
    "pipeline_stages = []\n",
    "\n",
    "#creating stringIndexers and one hot encoders for each categorical column and appending them to pipeline stages.\n",
    "for col in encodeCol:\n",
    "  si = feature.StringIndexer().setInputCol(col).setOutputCol(col+'_vec').setHandleInvalid('skip')\n",
    "  ohe = feature.OneHotEncoderEstimator().setInputCols([si.getOutputCol()]).setOutputCols([col+'_indexed'])\n",
    "  pipeline_stages += [si,ohe]\n",
    "\n",
    "#Assembling String indexed features\n",
    "feature_assembler_si = feature.VectorAssembler().setInputCols( [c+'_vec' for c in encodeCol] + numericCol ).setOutputCol('features_si')\n",
    "\n",
    "#Assembling one hot encoded features\n",
    "feature_assembler_ohe=feature.VectorAssembler().setInputCols( [c+'_indexed' for c in encodeCol] + numericCol ).setOutputCol('features_ohe')\n",
    "\n",
    "#Appending feature assembler to pipeline stages\n",
    "pipeline_stages += [feature_assembler_si, feature_assembler_ohe]"
   ]
  },
  {
   "cell_type": "code",
   "execution_count": 32,
   "metadata": {},
   "outputs": [
    {
     "data": {
      "text/html": [
       "<style scoped>\n",
       "  .ansiout {\n",
       "    display: block;\n",
       "    unicode-bidi: embed;\n",
       "    white-space: pre-wrap;\n",
       "    word-wrap: break-word;\n",
       "    word-break: break-all;\n",
       "    font-family: \"Source Code Pro\", \"Menlo\", monospace;;\n",
       "    font-size: 13px;\n",
       "    color: #555;\n",
       "    margin-left: 4px;\n",
       "    line-height: 19px;\n",
       "  }\n",
       "</style>\n",
       "<div class=\"ansiout\"></div>"
      ]
     },
     "metadata": {},
     "output_type": "display_data"
    }
   ],
   "source": [
    "#Pipeline for encoding the features\n",
    "dataEncodingPipe = Pipeline().setStages(pipeline_stages)\n",
    "\n",
    "#Transform the data\n",
    "encoded_data = dataEncodingPipe.fit(logs).transform(logs)"
   ]
  },
  {
   "cell_type": "code",
   "execution_count": 33,
   "metadata": {},
   "outputs": [
    {
     "data": {
      "text/html": [
       "<style scoped>\n",
       "  .ansiout {\n",
       "    display: block;\n",
       "    unicode-bidi: embed;\n",
       "    white-space: pre-wrap;\n",
       "    word-wrap: break-word;\n",
       "    word-break: break-all;\n",
       "    font-family: \"Source Code Pro\", \"Menlo\", monospace;;\n",
       "    font-size: 13px;\n",
       "    color: #555;\n",
       "    margin-left: 4px;\n",
       "    line-height: 19px;\n",
       "  }\n",
       "</style>\n",
       "<div class=\"ansiout\"></div>"
      ]
     },
     "metadata": {},
     "output_type": "display_data"
    }
   ],
   "source": [
    "#Splitting data into training and testing sets\n",
    "train, test = encoded_data.randomSplit([0.6,0.4], seed =1234)"
   ]
  },
  {
   "cell_type": "markdown",
   "metadata": {},
   "source": [
    "## Logistic Regression\n",
    "\n",
    "***Label Encoding***"
   ]
  },
  {
   "cell_type": "code",
   "execution_count": 35,
   "metadata": {},
   "outputs": [
    {
     "data": {
      "text/html": [
       "<style scoped>\n",
       "  .ansiout {\n",
       "    display: block;\n",
       "    unicode-bidi: embed;\n",
       "    white-space: pre-wrap;\n",
       "    word-wrap: break-word;\n",
       "    word-break: break-all;\n",
       "    font-family: \"Source Code Pro\", \"Menlo\", monospace;;\n",
       "    font-size: 13px;\n",
       "    color: #555;\n",
       "    margin-left: 4px;\n",
       "    line-height: 19px;\n",
       "  }\n",
       "</style>\n",
       "<div class=\"ansiout\"></div>"
      ]
     },
     "metadata": {},
     "output_type": "display_data"
    }
   ],
   "source": [
    "#Binary evaluator to find model performance on test data\n",
    "evaluator = BinaryClassificationEvaluator(rawPredictionCol=\"rawPrediction\",labelCol=\"target\")"
   ]
  },
  {
   "cell_type": "code",
   "execution_count": 36,
   "metadata": {},
   "outputs": [
    {
     "data": {
      "text/html": [
       "<style scoped>\n",
       "  .ansiout {\n",
       "    display: block;\n",
       "    unicode-bidi: embed;\n",
       "    white-space: pre-wrap;\n",
       "    word-wrap: break-word;\n",
       "    word-break: break-all;\n",
       "    font-family: \"Source Code Pro\", \"Menlo\", monospace;;\n",
       "    font-size: 13px;\n",
       "    color: #555;\n",
       "    margin-left: 4px;\n",
       "    line-height: 19px;\n",
       "  }\n",
       "</style>\n",
       "<div class=\"ansiout\">Performance on training data set: 0.6475913216782168\n",
       "</div>"
      ]
     },
     "metadata": {},
     "output_type": "display_data"
    }
   ],
   "source": [
    "#Scaler to standardise the Sting indexed features\n",
    "scaler_le = feature.StandardScaler(withMean = True, withStd = False, inputCol = 'features_si', outputCol = 'features_si_scaled')\n",
    "\n",
    "#Logistic regression on Sting indexed features\n",
    "lr_le = LogisticRegression().setFeaturesCol('features_si_scaled').setLabelCol('target')\n",
    "\n",
    "#Creating the Pipeline\n",
    "pipe_le = Pipeline().setStages([scaler_le, lr_le])\n",
    "\n",
    "#fit the pipe\n",
    "pipe_le_fitted = pipe_le.fit(train)\n",
    "print('Performance on training data set:',pipe_le_fitted.stages[-1].summary.areaUnderROC)"
   ]
  },
  {
   "cell_type": "code",
   "execution_count": 37,
   "metadata": {},
   "outputs": [],
   "source": [
    "#ROC for Logistic regression of String indexed features\n",
    "import matplotlib.pyplot as plt\n",
    "%matplotlib inline\n",
    "\n",
    "roc = pipe_le_fitted.stages[-1].summary.roc.toPandas()\n",
    "plt.figure(figsize=(8,8))\n",
    "plt.plot([0, 1], [0, 1], 'r--')\n",
    "plt.scatter(roc['FPR'],roc['TPR'])\n",
    "plt.xlabel('False Positive Rate',fontsize=15)\n",
    "plt.ylabel('True Positive Rate',fontsize=15)\n",
    "plt.title('ROC Scatter Plot(String Indexed)',fontsize=18)\n",
    "plt.show()"
   ]
  },
  {
   "cell_type": "code",
   "execution_count": 38,
   "metadata": {},
   "outputs": [
    {
     "data": {
      "text/html": [
       "<style scoped>\n",
       "  .ansiout {\n",
       "    display: block;\n",
       "    unicode-bidi: embed;\n",
       "    white-space: pre-wrap;\n",
       "    word-wrap: break-word;\n",
       "    word-break: break-all;\n",
       "    font-family: \"Source Code Pro\", \"Menlo\", monospace;;\n",
       "    font-size: 13px;\n",
       "    color: #555;\n",
       "    margin-left: 4px;\n",
       "    line-height: 19px;\n",
       "  }\n",
       "</style>\n",
       "<div class=\"ansiout\">Area Under Roc for test data: 0.6450400254160279\n",
       "</div>"
      ]
     },
     "metadata": {},
     "output_type": "display_data"
    }
   ],
   "source": [
    "#Evaluating model on test data\n",
    "lr_le_predictions = pipe_le_fitted.transform(test)\n",
    "print(\"Area Under Roc for test data:\", evaluator.evaluate(lr_le_predictions))"
   ]
  },
  {
   "cell_type": "markdown",
   "metadata": {},
   "source": [
    "***One hot Encoding***"
   ]
  },
  {
   "cell_type": "code",
   "execution_count": 40,
   "metadata": {},
   "outputs": [
    {
     "data": {
      "text/html": [
       "<style scoped>\n",
       "  .ansiout {\n",
       "    display: block;\n",
       "    unicode-bidi: embed;\n",
       "    white-space: pre-wrap;\n",
       "    word-wrap: break-word;\n",
       "    word-break: break-all;\n",
       "    font-family: \"Source Code Pro\", \"Menlo\", monospace;;\n",
       "    font-size: 13px;\n",
       "    color: #555;\n",
       "    margin-left: 4px;\n",
       "    line-height: 19px;\n",
       "  }\n",
       "</style>\n",
       "<div class=\"ansiout\">Performance on training data set: 0.6823679096252316\n",
       "</div>"
      ]
     },
     "metadata": {},
     "output_type": "display_data"
    }
   ],
   "source": [
    "#scaler to standardise one hot encoded features\n",
    "scaler_ohe = feature.StandardScaler(withMean = True, withStd = False, inputCol = 'features_ohe', outputCol = 'features_ohe_sacled')\n",
    "\n",
    "#Logistic regression\n",
    "lr_ohe = LogisticRegression(elasticNetParam=0.1, maxIter=10, regParam = 0.001).setFeaturesCol('features_ohe_sacled').setLabelCol('target')\n",
    "\n",
    "#Creating the pipeline\n",
    "pipe_ohe = Pipeline().setStages([scaler_ohe, lr_ohe])\n",
    "\n",
    "#fit the pipe\n",
    "pipe_ohe_fitted = pipe_ohe.fit(train)\n",
    "print('Performance on training data set:',pipe_ohe_fitted.stages[-1].summary.areaUnderROC)"
   ]
  },
  {
   "cell_type": "code",
   "execution_count": 41,
   "metadata": {},
   "outputs": [],
   "source": [
    "#ROC for one hot encoded Logistic regression\n",
    "import matplotlib.pyplot as plt\n",
    "%matplotlib inline\n",
    "\n",
    "roc = pipe_ohe_fitted.stages[-1].summary.roc.toPandas()\n",
    "plt.figure(figsize=(8,8))\n",
    "plt.plot([0, 1], [0, 1], 'r--')\n",
    "plt.scatter(roc['FPR'],roc['TPR'])\n",
    "plt.xlabel('False Positive Rate',fontsize=15)\n",
    "plt.ylabel('True Positive Rate',fontsize=15)\n",
    "plt.title('ROC Scatter Plot(One Hot Encoding)',fontsize=18)\n",
    "plt.show()"
   ]
  },
  {
   "cell_type": "code",
   "execution_count": 42,
   "metadata": {},
   "outputs": [
    {
     "data": {
      "text/html": [
       "<style scoped>\n",
       "  .ansiout {\n",
       "    display: block;\n",
       "    unicode-bidi: embed;\n",
       "    white-space: pre-wrap;\n",
       "    word-wrap: break-word;\n",
       "    word-break: break-all;\n",
       "    font-family: \"Source Code Pro\", \"Menlo\", monospace;;\n",
       "    font-size: 13px;\n",
       "    color: #555;\n",
       "    margin-left: 4px;\n",
       "    line-height: 19px;\n",
       "  }\n",
       "</style>\n",
       "<div class=\"ansiout\">Area Under Roc for test data: 0.679792193069111\n",
       "</div>"
      ]
     },
     "metadata": {},
     "output_type": "display_data"
    }
   ],
   "source": [
    "#Evaluating model on test data\n",
    "lr_ohe_predictions = pipe_ohe_fitted.transform(test)\n",
    "print(\"Area Under Roc for test data:\", evaluator.evaluate(lr_ohe_predictions))"
   ]
  },
  {
   "cell_type": "code",
   "execution_count": 43,
   "metadata": {},
   "outputs": [
    {
     "data": {
      "text/html": [
       "<style scoped>\n",
       "  .ansiout {\n",
       "    display: block;\n",
       "    unicode-bidi: embed;\n",
       "    white-space: pre-wrap;\n",
       "    word-wrap: break-word;\n",
       "    word-break: break-all;\n",
       "    font-family: \"Source Code Pro\", \"Menlo\", monospace;;\n",
       "    font-size: 13px;\n",
       "    color: #555;\n",
       "    margin-left: 4px;\n",
       "    line-height: 19px;\n",
       "  }\n",
       "</style>\n",
       "<div class=\"ansiout\"></div>"
      ]
     },
     "metadata": {},
     "output_type": "display_data"
    }
   ],
   "source": [
    "#Coeffiecients of logistic regression\n",
    "weights = pipe_ohe_fitted.stages[-1].coefficients"
   ]
  },
  {
   "cell_type": "code",
   "execution_count": 44,
   "metadata": {},
   "outputs": [
    {
     "data": {
      "text/html": [
       "<style scoped>\n",
       "  .ansiout {\n",
       "    display: block;\n",
       "    unicode-bidi: embed;\n",
       "    white-space: pre-wrap;\n",
       "    word-wrap: break-word;\n",
       "    word-break: break-all;\n",
       "    font-family: \"Source Code Pro\", \"Menlo\", monospace;;\n",
       "    font-size: 13px;\n",
       "    color: #555;\n",
       "    margin-left: 4px;\n",
       "    line-height: 19px;\n",
       "  }\n",
       "</style>\n",
       "<div class=\"ansiout\">Out[129]: 11</div>"
      ]
     },
     "metadata": {},
     "output_type": "display_data"
    }
   ],
   "source": [
    "w_pd = pd.DataFrame(weights.tolist(), columns=['weights'])\n",
    "c_pd = w_pd[w_pd.weights == 0]\n",
    "c_pd.shape[0]"
   ]
  },
  {
   "cell_type": "markdown",
   "metadata": {},
   "source": [
    "11 Features were elimanated by L1 reguralization"
   ]
  },
  {
   "cell_type": "markdown",
   "metadata": {},
   "source": [
    "## Decision Trees"
   ]
  },
  {
   "cell_type": "code",
   "execution_count": 47,
   "metadata": {},
   "outputs": [
    {
     "data": {
      "text/html": [
       "<style scoped>\n",
       "  .ansiout {\n",
       "    display: block;\n",
       "    unicode-bidi: embed;\n",
       "    white-space: pre-wrap;\n",
       "    word-wrap: break-word;\n",
       "    word-break: break-all;\n",
       "    font-family: \"Source Code Pro\", \"Menlo\", monospace;;\n",
       "    font-size: 13px;\n",
       "    color: #555;\n",
       "    margin-left: 4px;\n",
       "    line-height: 19px;\n",
       "  }\n",
       "</style>\n",
       "<div class=\"ansiout\">Accuracy od model:  0.4341531730926151\n",
       "</div>"
      ]
     },
     "metadata": {},
     "output_type": "display_data"
    }
   ],
   "source": [
    "# Create initial Decision Tree Model\n",
    "dt = DecisionTreeClassifier(labelCol=\"target\", featuresCol=\"features_ohe\")\n",
    "\n",
    "# Train model with Training Data\n",
    "dtModel = dt.fit(train)\n",
    "\n",
    "#Making prediction on test data\n",
    "predictions = dtModel.transform(test)\n",
    "\n",
    "#Evaluating the predictions\n",
    "accuracy = evaluator.evaluate(predictions)\n",
    "\n",
    "print(\"Accuracy od model: \", accuracy)"
   ]
  },
  {
   "cell_type": "code",
   "execution_count": 48,
   "metadata": {},
   "outputs": [
    {
     "data": {
      "text/html": [
       "<style scoped>\n",
       "  .ansiout {\n",
       "    display: block;\n",
       "    unicode-bidi: embed;\n",
       "    white-space: pre-wrap;\n",
       "    word-wrap: break-word;\n",
       "    word-break: break-all;\n",
       "    font-family: \"Source Code Pro\", \"Menlo\", monospace;;\n",
       "    font-size: 13px;\n",
       "    color: #555;\n",
       "    margin-left: 4px;\n",
       "    line-height: 19px;\n",
       "  }\n",
       "</style>\n",
       "<div class=\"ansiout\">Area under ROC Curve: 0.4342\n",
       "Area under PR Curve: 0.4920\n",
       "</div>"
      ]
     },
     "metadata": {},
     "output_type": "display_data"
    }
   ],
   "source": [
    "auroc = evaluator.evaluate(predictions, {evaluator.metricName: \"areaUnderROC\"})\n",
    "auprc = evaluator.evaluate(predictions, {evaluator.metricName: \"areaUnderPR\"})\n",
    "print(\"Area under ROC Curve: {:.4f}\".format(auroc))\n",
    "print(\"Area under PR Curve: {:.4f}\".format(auprc))"
   ]
  },
  {
   "cell_type": "code",
   "execution_count": 49,
   "metadata": {},
   "outputs": [
    {
     "data": {
      "text/html": [
       "<style scoped>\n",
       "  .table-result-container {\n",
       "    max-height: 300px;\n",
       "    overflow: auto;\n",
       "  }\n",
       "  table, th, td {\n",
       "    border: 1px solid black;\n",
       "    border-collapse: collapse;\n",
       "  }\n",
       "  th, td {\n",
       "    padding: 5px;\n",
       "  }\n",
       "  th {\n",
       "    text-align: left;\n",
       "  }\n",
       "</style><div class='table-result-container'><table class='table-result'><thead style='background-color: white'><tr><th>treeNode</th></tr></thead><tbody><tr><td>{\"index\":27,\"featureType\":\"categorical\",\"prediction\":null,\"threshold\":null,\"categories\":[0.0],\"feature\":8,\"overflow\":false}</td></tr><tr><td>{\"index\":13,\"featureType\":\"categorical\",\"prediction\":null,\"threshold\":null,\"categories\":[1.0],\"feature\":29,\"overflow\":false}</td></tr><tr><td>{\"index\":7,\"featureType\":\"continuous\",\"prediction\":null,\"threshold\":48.5,\"categories\":null,\"feature\":173,\"overflow\":false}</td></tr><tr><td>{\"index\":3,\"featureType\":\"continuous\",\"prediction\":null,\"threshold\":688.5,\"categories\":null,\"feature\":172,\"overflow\":false}</td></tr><tr><td>{\"index\":1,\"featureType\":\"categorical\",\"prediction\":null,\"threshold\":null,\"categories\":[1.0],\"feature\":4,\"overflow\":false}</td></tr><tr><td>{\"index\":0,\"featureType\":null,\"prediction\":1.0,\"threshold\":null,\"categories\":null,\"feature\":null,\"overflow\":false}</td></tr><tr><td>{\"index\":2,\"featureType\":null,\"prediction\":0.0,\"threshold\":null,\"categories\":null,\"feature\":null,\"overflow\":false}</td></tr><tr><td>{\"index\":5,\"featureType\":\"categorical\",\"prediction\":null,\"threshold\":null,\"categories\":[1.0],\"feature\":57,\"overflow\":false}</td></tr><tr><td>{\"index\":4,\"featureType\":null,\"prediction\":0.0,\"threshold\":null,\"categories\":null,\"feature\":null,\"overflow\":false}</td></tr><tr><td>{\"index\":6,\"featureType\":null,\"prediction\":1.0,\"threshold\":null,\"categories\":null,\"feature\":null,\"overflow\":false}</td></tr><tr><td>{\"index\":9,\"featureType\":\"categorical\",\"prediction\":null,\"threshold\":null,\"categories\":[1.0],\"feature\":45,\"overflow\":false}</td></tr><tr><td>{\"index\":8,\"featureType\":null,\"prediction\":0.0,\"threshold\":null,\"categories\":null,\"feature\":null,\"overflow\":false}</td></tr><tr><td>{\"index\":11,\"featureType\":\"categorical\",\"prediction\":null,\"threshold\":null,\"categories\":[0.0],\"feature\":36,\"overflow\":false}</td></tr><tr><td>{\"index\":10,\"featureType\":null,\"prediction\":0.0,\"threshold\":null,\"categories\":null,\"feature\":null,\"overflow\":false}</td></tr><tr><td>{\"index\":12,\"featureType\":null,\"prediction\":1.0,\"threshold\":null,\"categories\":null,\"feature\":null,\"overflow\":false}</td></tr><tr><td>{\"index\":21,\"featureType\":\"categorical\",\"prediction\":null,\"threshold\":null,\"categories\":[1.0],\"feature\":17,\"overflow\":false}</td></tr><tr><td>{\"index\":17,\"featureType\":\"categorical\",\"prediction\":null,\"threshold\":null,\"categories\":[1.0],\"feature\":25,\"overflow\":false}</td></tr><tr><td>{\"index\":15,\"featureType\":\"continuous\",\"prediction\":null,\"threshold\":577.5,\"categories\":null,\"feature\":172,\"overflow\":false}</td></tr><tr><td>{\"index\":14,\"featureType\":null,\"prediction\":0.0,\"threshold\":null,\"categories\":null,\"feature\":null,\"overflow\":false}</td></tr><tr><td>{\"index\":16,\"featureType\":null,\"prediction\":1.0,\"threshold\":null,\"categories\":null,\"feature\":null,\"overflow\":false}</td></tr><tr><td>{\"index\":19,\"featureType\":\"continuous\",\"prediction\":null,\"threshold\":37.0,\"categories\":null,\"feature\":172,\"overflow\":false}</td></tr><tr><td>{\"index\":18,\"featureType\":null,\"prediction\":0.0,\"threshold\":null,\"categories\":null,\"feature\":null,\"overflow\":false}</td></tr><tr><td>{\"index\":20,\"featureType\":null,\"prediction\":1.0,\"threshold\":null,\"categories\":null,\"feature\":null,\"overflow\":false}</td></tr><tr><td>{\"index\":25,\"featureType\":\"categorical\",\"prediction\":null,\"threshold\":null,\"categories\":[1.0],\"feature\":16,\"overflow\":false}</td></tr><tr><td>{\"index\":23,\"featureType\":\"continuous\",\"prediction\":null,\"threshold\":37.0,\"categories\":null,\"feature\":172,\"overflow\":false}</td></tr><tr><td>{\"index\":22,\"featureType\":null,\"prediction\":0.0,\"threshold\":null,\"categories\":null,\"feature\":null,\"overflow\":false}</td></tr><tr><td>{\"index\":24,\"featureType\":null,\"prediction\":1.0,\"threshold\":null,\"categories\":null,\"feature\":null,\"overflow\":false}</td></tr><tr><td>{\"index\":26,\"featureType\":null,\"prediction\":0.0,\"threshold\":null,\"categories\":null,\"feature\":null,\"overflow\":false}</td></tr><tr><td>{\"index\":41,\"featureType\":\"continuous\",\"prediction\":null,\"threshold\":112.0,\"categories\":null,\"feature\":172,\"overflow\":false}</td></tr><tr><td>{\"index\":35,\"featureType\":\"categorical\",\"prediction\":null,\"threshold\":null,\"categories\":[1.0],\"feature\":44,\"overflow\":false}</td></tr><tr><td>{\"index\":31,\"featureType\":\"continuous\",\"prediction\":null,\"threshold\":21.5,\"categories\":null,\"feature\":173,\"overflow\":false}</td></tr><tr><td>{\"index\":29,\"featureType\":\"categorical\",\"prediction\":null,\"threshold\":null,\"categories\":[1.0],\"feature\":90,\"overflow\":false}</td></tr><tr><td>{\"index\":28,\"featureType\":null,\"prediction\":0.0,\"threshold\":null,\"categories\":null,\"feature\":null,\"overflow\":false}</td></tr><tr><td>{\"index\":30,\"featureType\":null,\"prediction\":1.0,\"threshold\":null,\"categories\":null,\"feature\":null,\"overflow\":false}</td></tr><tr><td>{\"index\":33,\"featureType\":\"continuous\",\"prediction\":null,\"threshold\":30.5,\"categories\":null,\"feature\":173,\"overflow\":false}</td></tr><tr><td>{\"index\":32,\"featureType\":null,\"prediction\":0.0,\"threshold\":null,\"categories\":null,\"feature\":null,\"overflow\":false}</td></tr><tr><td>{\"index\":34,\"featureType\":null,\"prediction\":1.0,\"threshold\":null,\"categories\":null,\"feature\":null,\"overflow\":false}</td></tr><tr><td>{\"index\":39,\"featureType\":\"categorical\",\"prediction\":null,\"threshold\":null,\"categories\":[1.0],\"feature\":55,\"overflow\":false}</td></tr><tr><td>{\"index\":37,\"featureType\":\"categorical\",\"prediction\":null,\"threshold\":null,\"categories\":[0.0],\"feature\":26,\"overflow\":false}</td></tr><tr><td>{\"index\":36,\"featureType\":null,\"prediction\":0.0,\"threshold\":null,\"categories\":null,\"feature\":null,\"overflow\":false}</td></tr><tr><td>{\"index\":38,\"featureType\":null,\"prediction\":1.0,\"threshold\":null,\"categories\":null,\"feature\":null,\"overflow\":false}</td></tr><tr><td>{\"index\":40,\"featureType\":null,\"prediction\":1.0,\"threshold\":null,\"categories\":null,\"feature\":null,\"overflow\":false}</td></tr><tr><td>{\"index\":43,\"featureType\":\"continuous\",\"prediction\":null,\"threshold\":23.5,\"categories\":null,\"feature\":173,\"overflow\":false}</td></tr><tr><td>{\"index\":42,\"featureType\":null,\"prediction\":1.0,\"threshold\":null,\"categories\":null,\"feature\":null,\"overflow\":false}</td></tr><tr><td>{\"index\":47,\"featureType\":\"categorical\",\"prediction\":null,\"threshold\":null,\"categories\":[0.0],\"feature\":0,\"overflow\":false}</td></tr><tr><td>{\"index\":45,\"featureType\":\"continuous\",\"prediction\":null,\"threshold\":26.5,\"categories\":null,\"feature\":173,\"overflow\":false}</td></tr><tr><td>{\"index\":44,\"featureType\":null,\"prediction\":1.0,\"threshold\":null,\"categories\":null,\"feature\":null,\"overflow\":false}</td></tr><tr><td>{\"index\":46,\"featureType\":null,\"prediction\":0.0,\"threshold\":null,\"categories\":null,\"feature\":null,\"overflow\":false}</td></tr><tr><td>{\"index\":48,\"featureType\":null,\"prediction\":1.0,\"threshold\":null,\"categories\":null,\"feature\":null,\"overflow\":false}</td></tr></tbody></table></div>"
      ]
     },
     "metadata": {},
     "output_type": "display_data"
    }
   ],
   "source": [
    "display(dtModel)"
   ]
  },
  {
   "cell_type": "markdown",
   "metadata": {},
   "source": [
    "## Random Forest"
   ]
  },
  {
   "cell_type": "code",
   "execution_count": 51,
   "metadata": {},
   "outputs": [
    {
     "data": {
      "text/html": [
       "<style scoped>\n",
       "  .ansiout {\n",
       "    display: block;\n",
       "    unicode-bidi: embed;\n",
       "    white-space: pre-wrap;\n",
       "    word-wrap: break-word;\n",
       "    word-break: break-all;\n",
       "    font-family: \"Source Code Pro\", \"Menlo\", monospace;;\n",
       "    font-size: 13px;\n",
       "    color: #555;\n",
       "    margin-left: 4px;\n",
       "    line-height: 19px;\n",
       "  }\n",
       "</style>\n",
       "<div class=\"ansiout\"></div>"
      ]
     },
     "metadata": {},
     "output_type": "display_data"
    }
   ],
   "source": [
    "# Create an initial RandomForest model.\n",
    "rf = RandomForestClassifier(labelCol=\"target\", featuresCol=\"features_ohe\", numTrees=60, maxDepth=8)\n",
    "\n",
    "# Train model with Training Data\n",
    "rfModel = rf.fit(train)"
   ]
  },
  {
   "cell_type": "code",
   "execution_count": 52,
   "metadata": {},
   "outputs": [
    {
     "data": {
      "text/html": [
       "<style scoped>\n",
       "  .ansiout {\n",
       "    display: block;\n",
       "    unicode-bidi: embed;\n",
       "    white-space: pre-wrap;\n",
       "    word-wrap: break-word;\n",
       "    word-break: break-all;\n",
       "    font-family: \"Source Code Pro\", \"Menlo\", monospace;;\n",
       "    font-size: 13px;\n",
       "    color: #555;\n",
       "    margin-left: 4px;\n",
       "    line-height: 19px;\n",
       "  }\n",
       "</style>\n",
       "<div class=\"ansiout\">Accuracy of Random Forest on training set: 0.7040392880163572\n",
       "</div>"
      ]
     },
     "metadata": {},
     "output_type": "display_data"
    }
   ],
   "source": [
    "#performance on training set\n",
    "predictions = rfModel.transform(train)\n",
    "\n",
    "#Evaluating the model\n",
    "print(\"Accuracy of Random Forest on training set:\",evaluator.evaluate(predictions))"
   ]
  },
  {
   "cell_type": "code",
   "execution_count": 53,
   "metadata": {},
   "outputs": [
    {
     "data": {
      "text/html": [
       "<style scoped>\n",
       "  .ansiout {\n",
       "    display: block;\n",
       "    unicode-bidi: embed;\n",
       "    white-space: pre-wrap;\n",
       "    word-wrap: break-word;\n",
       "    word-break: break-all;\n",
       "    font-family: \"Source Code Pro\", \"Menlo\", monospace;;\n",
       "    font-size: 13px;\n",
       "    color: #555;\n",
       "    margin-left: 4px;\n",
       "    line-height: 19px;\n",
       "  }\n",
       "</style>\n",
       "<div class=\"ansiout\">Accuracy of Random Forest: 0.6969226713481601\n",
       "</div>"
      ]
     },
     "metadata": {},
     "output_type": "display_data"
    }
   ],
   "source": [
    "#Making thebprediction on test data\n",
    "predictions = rfModel.transform(test)\n",
    "\n",
    "#Evaluating the model\n",
    "print(\"Accuracy of Random Forest on testing set:\",evaluator.evaluate(predictions))"
   ]
  },
  {
   "cell_type": "code",
   "execution_count": 54,
   "metadata": {},
   "outputs": [
    {
     "data": {
      "text/html": [
       "<style scoped>\n",
       "  .ansiout {\n",
       "    display: block;\n",
       "    unicode-bidi: embed;\n",
       "    white-space: pre-wrap;\n",
       "    word-wrap: break-word;\n",
       "    word-break: break-all;\n",
       "    font-family: \"Source Code Pro\", \"Menlo\", monospace;;\n",
       "    font-size: 13px;\n",
       "    color: #555;\n",
       "    margin-left: 4px;\n",
       "    line-height: 19px;\n",
       "  }\n",
       "</style>\n",
       "<div class=\"ansiout\">Number of features eliminated: 38\n",
       "</div>"
      ]
     },
     "metadata": {},
     "output_type": "display_data"
    }
   ],
   "source": [
    "#feature importance from random Forest\n",
    "feature_imp = pd.DataFrame(rfModel.featureImportances.toArray(), columns = ['weights'])\n",
    "print(\"Number of features eliminated:\", feature_imp[feature_imp.weights == 0].shape[0])"
   ]
  },
  {
   "cell_type": "code",
   "execution_count": 55,
   "metadata": {},
   "outputs": [],
   "source": [
    "#Bar graph of feature importance\n",
    "plt.figure(figsize=(12,8))\n",
    "plt.bar(feature_imp.index,feature_imp.weights)\n",
    "plt.title(\"Bar graph of feature importance\")\n",
    "plt.xlabel('feature number')\n",
    "plt.ylabel('weights')\n",
    "plt.show()"
   ]
  },
  {
   "cell_type": "markdown",
   "metadata": {},
   "source": [
    "## Gradient Boosting"
   ]
  },
  {
   "cell_type": "code",
   "execution_count": 57,
   "metadata": {},
   "outputs": [
    {
     "data": {
      "text/html": [
       "<style scoped>\n",
       "  .ansiout {\n",
       "    display: block;\n",
       "    unicode-bidi: embed;\n",
       "    white-space: pre-wrap;\n",
       "    word-wrap: break-word;\n",
       "    word-break: break-all;\n",
       "    font-family: \"Source Code Pro\", \"Menlo\", monospace;;\n",
       "    font-size: 13px;\n",
       "    color: #555;\n",
       "    margin-left: 4px;\n",
       "    line-height: 19px;\n",
       "  }\n",
       "</style>\n",
       "<div class=\"ansiout\">Accuracy og gbt:  0.7240494868994471\n",
       "</div>"
      ]
     },
     "metadata": {},
     "output_type": "display_data"
    }
   ],
   "source": [
    "#Creating a intial model\n",
    "gbt = GBTClassifier(labelCol = 'target', featuresCol = 'features_ohe', maxDepth = 6)\n",
    "\n",
    "#Train the model\n",
    "gbt_pipeline = gbt.fit(train)\n",
    "\n",
    "#performance on training set\n",
    "print(\"Accuracy of gbt on training data: \",evaluator.evaluate(gbt_pipeline.transform(train)))\n",
    "\n",
    "#Making predictions on test data\n",
    "gbt_prediction = gbt_pipeline.transform(test)\n",
    "\n",
    "#Evaluating the predictions\n",
    "print(\"Accuracy of gbt on test data: \",evaluator.evaluate(gbt_prediction))"
   ]
  },
  {
   "cell_type": "code",
   "execution_count": 58,
   "metadata": {},
   "outputs": [
    {
     "data": {
      "text/html": [
       "<style scoped>\n",
       "  .ansiout {\n",
       "    display: block;\n",
       "    unicode-bidi: embed;\n",
       "    white-space: pre-wrap;\n",
       "    word-wrap: break-word;\n",
       "    word-break: break-all;\n",
       "    font-family: \"Source Code Pro\", \"Menlo\", monospace;;\n",
       "    font-size: 13px;\n",
       "    color: #555;\n",
       "    margin-left: 4px;\n",
       "    line-height: 19px;\n",
       "  }\n",
       "</style>\n",
       "<div class=\"ansiout\">Number of features eliminated: 90\n",
       "</div>"
      ]
     },
     "metadata": {},
     "output_type": "display_data"
    }
   ],
   "source": [
    "#feature importance from random Forest\n",
    "feature_imp2 = pd.DataFrame(gbt_pipeline.featureImportances.toArray(), columns = ['weights'])\n",
    "print(\"Number of features eliminated:\", feature_imp2[feature_imp2.weights == 0].shape[0])"
   ]
  },
  {
   "cell_type": "code",
   "execution_count": 59,
   "metadata": {},
   "outputs": [],
   "source": [
    "#Bar graph of feature importance\n",
    "plt.figure(figsize=(12,8))\n",
    "plt.bar(feature_imp2.index,feature_imp2.weights)\n",
    "plt.title(\"Bar graph of feature importance\")\n",
    "plt.xlabel('feature number')\n",
    "plt.ylabel('weights')\n",
    "plt.show()"
   ]
  },
  {
   "cell_type": "markdown",
   "metadata": {},
   "source": [
    "## Principal Component Analysis (PCA)"
   ]
  },
  {
   "cell_type": "code",
   "execution_count": 61,
   "metadata": {},
   "outputs": [
    {
     "data": {
      "text/html": [
       "<style scoped>\n",
       "  .ansiout {\n",
       "    display: block;\n",
       "    unicode-bidi: embed;\n",
       "    white-space: pre-wrap;\n",
       "    word-wrap: break-word;\n",
       "    word-break: break-all;\n",
       "    font-family: \"Source Code Pro\", \"Menlo\", monospace;;\n",
       "    font-size: 13px;\n",
       "    color: #555;\n",
       "    margin-left: 4px;\n",
       "    line-height: 19px;\n",
       "  }\n",
       "</style>\n",
       "<div class=\"ansiout\"></div>"
      ]
     },
     "metadata": {},
     "output_type": "display_data"
    }
   ],
   "source": [
    "#scaler to standardise features\n",
    "scaler = feature.StandardScaler(withMean = True, withStd = False, inputCol = 'features_ohe',outputCol = 'features_ohe_zfeatures')\n",
    "\n",
    "#Pca with maximumm number of components\n",
    "pca = feature.PCA(k = 175, inputCol = 'features_ohe_zfeatures', outputCol = 'pca_scores')\n",
    "\n",
    "#Pipeline\n",
    "pipe_pca = Pipeline().setStages([scaler,pca])\n",
    "pca_fit = pipe_pca.fit(encoded_data)"
   ]
  },
  {
   "cell_type": "code",
   "execution_count": 62,
   "metadata": {},
   "outputs": [],
   "source": [
    "#Plot to explain cummulative variance\n",
    "%matplotlib inline\n",
    "explainedVariance = pca_fit.stages[-1].explainedVariance\n",
    "cum_sum = np.cumsum(explainedVariance)\n",
    "plt.figure(figsize=(8,8))\n",
    "plt.plot(np.arange(1, len(explainedVariance)+1), cum_sum)\n",
    "plt.title(\"Scree Plot with maximum number of principal components for genre_id\", fontsize =18)\n",
    "plt.xlabel(\"Principal Component\",fontsize =15)\n",
    "plt.ylabel(\"Proportion Variance Explained\",fontsize =15)\n",
    "plt.show()"
   ]
  },
  {
   "cell_type": "markdown",
   "metadata": {},
   "source": [
    "* This is a little weird as only 3 components were able explain 100% variance of 175 dimensions\n",
    "* let us try running a logistic regression model on this"
   ]
  },
  {
   "cell_type": "code",
   "execution_count": 64,
   "metadata": {},
   "outputs": [
    {
     "data": {
      "text/html": [
       "<style scoped>\n",
       "  .ansiout {\n",
       "    display: block;\n",
       "    unicode-bidi: embed;\n",
       "    white-space: pre-wrap;\n",
       "    word-wrap: break-word;\n",
       "    word-break: break-all;\n",
       "    font-family: \"Source Code Pro\", \"Menlo\", monospace;;\n",
       "    font-size: 13px;\n",
       "    color: #555;\n",
       "    margin-left: 4px;\n",
       "    line-height: 19px;\n",
       "  }\n",
       "</style>\n",
       "<div class=\"ansiout\">Out[137]: 0.5434361216111012</div>"
      ]
     },
     "metadata": {},
     "output_type": "display_data"
    }
   ],
   "source": [
    "#Scaler\n",
    "scaler = feature.StandardScaler(withMean = True, withStd = False,inputCol = 'features_ohe',outputCol = 'features_ohe_zfeatures')\n",
    "\n",
    "#Pca with three components\n",
    "pca = feature.PCA(k = 3, inputCol = 'features_ohe_zfeatures', outputCol = 'pca_scores')\n",
    "\n",
    "#logistic regression\n",
    "lr = LogisticRegression().setFeaturesCol('pca_scores').setLabelCol('target')\n",
    "\n",
    "#pipe line\n",
    "pipe = Pipeline().setStages([scaler,pca,lr])\n",
    "\n",
    "#Train the data\n",
    "pipe_fitted = pipe.fit(train)\n",
    "\n",
    "#performance on training set\n",
    "pipe_fitted.stages[-1].summary.areaUnderROC"
   ]
  },
  {
   "cell_type": "code",
   "execution_count": 65,
   "metadata": {},
   "outputs": [],
   "source": [
    "#Plotting the ROC\n",
    "%matplotlib inline\n",
    "roc = pipe_fitted.stages[-1].summary.roc.toPandas()\n",
    "plt.figure(figsize=(8,8))\n",
    "plt.plot([0, 1], [0, 1], 'r--')\n",
    "plt.scatter(roc['FPR'],roc['TPR'])\n",
    "plt.xlabel('False Positive Rate',fontsize=15)\n",
    "plt.ylabel('True Positive Rate',fontsize=15)\n",
    "plt.title('ROC Scatter Plot(PCA)',fontsize=18)\n",
    "plt.show()"
   ]
  },
  {
   "cell_type": "code",
   "execution_count": 66,
   "metadata": {},
   "outputs": [
    {
     "data": {
      "text/html": [
       "<style scoped>\n",
       "  .ansiout {\n",
       "    display: block;\n",
       "    unicode-bidi: embed;\n",
       "    white-space: pre-wrap;\n",
       "    word-wrap: break-word;\n",
       "    word-break: break-all;\n",
       "    font-family: \"Source Code Pro\", \"Menlo\", monospace;;\n",
       "    font-size: 13px;\n",
       "    color: #555;\n",
       "    margin-left: 4px;\n",
       "    line-height: 19px;\n",
       "  }\n",
       "</style>\n",
       "<div class=\"ansiout\">Performance of PCA 0.5479321762860349\n",
       "</div>"
      ]
     },
     "metadata": {},
     "output_type": "display_data"
    }
   ],
   "source": [
    "#prediction on test data\n",
    "predictions = pipe_fitted.transform(test)\n",
    "print(\"Performance of PCA\" ,evaluator.evaluate(predictions))"
   ]
  },
  {
   "cell_type": "markdown",
   "metadata": {},
   "source": [
    "* Using PCA to reduce dimesionality has resulted in decrease in accuracy.\n",
    "* SO PCA is not used for analysis"
   ]
  }
 ],
 "metadata": {
  "kernelspec": {
   "display_name": "Python 3",
   "language": "python",
   "name": "python3"
  },
  "language_info": {
   "codemirror_mode": {
    "name": "ipython",
    "version": 3
   },
   "file_extension": ".py",
   "mimetype": "text/x-python",
   "name": "python",
   "nbconvert_exporter": "python",
   "pygments_lexer": "ipython3",
   "version": "3.7.4"
  },
  "name": "Project_BDA",
  "notebookId": 652416647627847
 },
 "nbformat": 4,
 "nbformat_minor": 1
}
